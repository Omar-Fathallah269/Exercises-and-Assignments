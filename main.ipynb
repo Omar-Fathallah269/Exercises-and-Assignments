{
 "cells": [
  {
   "cell_type": "code",
   "execution_count": 6,
   "id": "d732c0be-441c-49c8-8817-9c783ca1338f",
   "metadata": {},
   "outputs": [
    {
     "name": "stdin",
     "output_type": "stream",
     "text": [
      "Enter a command (add, sub, mult, div):  add\n",
      "Enter the first number:  25\n",
      "Enter the second number:  25\n"
     ]
    },
    {
     "name": "stdout",
     "output_type": "stream",
     "text": [
      "25.0 + 25.0 = 50.0\n"
     ]
    },
    {
     "name": "stdin",
     "output_type": "stream",
     "text": [
      "Do you want to perform another operation? (yes/no):  no\n"
     ]
    }
   ],
   "source": [
    "import calc\n",
    "\n",
    "def main():\n",
    "    while True:\n",
    "        command = input(\"Enter a command (add, sub, mult, div): \")\n",
    "        if command.lower() == 'stop':\n",
    "            break\n",
    "\n",
    "        num1 = float(input(\"Enter the first number: \"))\n",
    "        num2 = float(input(\"Enter the second number: \"))\n",
    "\n",
    "        if command.lower() == 'add':\n",
    "            result = calc.add(num1, num2)\n",
    "            print(f\"{num1} + {num2} = {result}\")\n",
    "        elif command.lower() == 'sub':\n",
    "            result = calc.subtract(num1, num2)\n",
    "            print(f\"{num1} - {num2} = {result}\")\n",
    "        elif command.lower() == 'mult':\n",
    "            result = calc.multiply(num1, num2)\n",
    "            print(f\"{num1} * {num2} = {result}\")\n",
    "        elif command.lower() == 'div':\n",
    "            result = calc.divide(num1, num2)\n",
    "            if result is not None:\n",
    "                print(f\"{num1} / {num2} = {result}\")\n",
    "\n",
    "        another_operation = input(\"Do you want to perform another operation? (yes/no): \")\n",
    "        if another_operation.lower() != 'yes':\n",
    "            break\n",
    "\n",
    "if __name__ == \"__main__\":\n",
    "    main()"
   ]
  },
  {
   "cell_type": "code",
   "execution_count": null,
   "id": "1d477b9e-d700-433a-88b4-14094c7022d1",
   "metadata": {},
   "outputs": [],
   "source": []
  }
 ],
 "metadata": {
  "kernelspec": {
   "display_name": "Python 3 (ipykernel)",
   "language": "python",
   "name": "python3"
  },
  "language_info": {
   "codemirror_mode": {
    "name": "ipython",
    "version": 3
   },
   "file_extension": ".py",
   "mimetype": "text/x-python",
   "name": "python",
   "nbconvert_exporter": "python",
   "pygments_lexer": "ipython3",
   "version": "3.12.7"
  }
 },
 "nbformat": 4,
 "nbformat_minor": 5
}
